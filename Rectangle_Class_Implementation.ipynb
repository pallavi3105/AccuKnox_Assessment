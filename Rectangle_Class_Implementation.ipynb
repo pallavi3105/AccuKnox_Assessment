{
  "nbformat": 4,
  "nbformat_minor": 0,
  "metadata": {
    "colab": {
      "provenance": [],
      "authorship_tag": "ABX9TyO8PLP30XiMg3I1LCzTj+R6",
      "include_colab_link": true
    },
    "kernelspec": {
      "name": "python3",
      "display_name": "Python 3"
    },
    "language_info": {
      "name": "python"
    }
  },
  "cells": [
    {
      "cell_type": "markdown",
      "metadata": {
        "id": "view-in-github",
        "colab_type": "text"
      },
      "source": [
        "<a href=\"https://colab.research.google.com/github/pallavi3105/LeetCode_DSA/blob/main/Rectangle_Class_Implementation.ipynb\" target=\"_parent\"><img src=\"https://colab.research.google.com/assets/colab-badge.svg\" alt=\"Open In Colab\"/></a>"
      ]
    },
    {
      "cell_type": "markdown",
      "source": [
        "# Custom Rectangle Class\n",
        "# Rectangle Class Implementation:"
      ],
      "metadata": {
        "id": "BTZ5g6mi6nEH"
      }
    },
    {
      "cell_type": "code",
      "source": [
        "class Rectangle:\n",
        "    def __init__(self, length: int, width: int):\n",
        "        self.length = length\n",
        "        self.width = width\n",
        "\n",
        "    def __iter__(self):\n",
        "        yield {'length': self.length}\n",
        "        yield {'width': self.width}\n",
        "\n",
        "# Example usage\n",
        "rectangle = Rectangle(5, 10)\n",
        "\n",
        "for dimension in rectangle:\n",
        "    print(dimension)"
      ],
      "metadata": {
        "colab": {
          "base_uri": "https://localhost:8080/"
        },
        "id": "mgSM2AJB6bnl",
        "outputId": "9f2d3201-9110-4786-a90e-4bba7122783a"
      },
      "execution_count": null,
      "outputs": [
        {
          "output_type": "stream",
          "name": "stdout",
          "text": [
            "{'length': 5}\n",
            "{'width': 10}\n"
          ]
        }
      ]
    },
    {
      "cell_type": "markdown",
      "source": [
        "**Explanation: This Rectangle class takes length and width as parameters during initialization. It implements the __iter__ method, allowing instances of the class to be iterable. When iterated over, it yields a dictionary with the length followed by a dictionary with the width, demonstrating the desired functionality.**"
      ],
      "metadata": {
        "id": "lvu-4hGr61NO"
      }
    }
  ]
}