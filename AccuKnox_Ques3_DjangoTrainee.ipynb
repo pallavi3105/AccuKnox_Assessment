{
  "nbformat": 4,
  "nbformat_minor": 0,
  "metadata": {
    "colab": {
      "provenance": [],
      "authorship_tag": "ABX9TyOLeG65+198tGrXeJtFxpbE",
      "include_colab_link": true
    },
    "kernelspec": {
      "name": "python3",
      "display_name": "Python 3"
    },
    "language_info": {
      "name": "python"
    }
  },
  "cells": [
    {
      "cell_type": "markdown",
      "metadata": {
        "id": "view-in-github",
        "colab_type": "text"
      },
      "source": [
        "<a href=\"https://colab.research.google.com/github/pallavi3105/LeetCode_DSA/blob/main/AccuKnox_Ques3_DjangoTrainee.ipynb\" target=\"_parent\"><img src=\"https://colab.research.google.com/assets/colab-badge.svg\" alt=\"Open In Colab\"/></a>"
      ]
    },
    {
      "cell_type": "markdown",
      "source": [
        "**Question 3: Django Signals Transaction Execution**\n",
        "\n",
        "**Answer: By default, Django signals run in the same database transaction as the caller.**"
      ],
      "metadata": {
        "id": "BV0TMIFx9y9t"
      }
    },
    {
      "cell_type": "code",
      "execution_count": null,
      "metadata": {
        "colab": {
          "base_uri": "https://localhost:8080/"
        },
        "id": "WzCKlTVo7Z-R",
        "outputId": "4545fefd-8fe6-46ba-d61e-90d657a54ca7"
      },
      "outputs": [
        {
          "output_type": "stream",
          "name": "stdout",
          "text": [
            "Collecting django\n",
            "  Downloading Django-5.1.2-py3-none-any.whl.metadata (4.2 kB)\n",
            "Collecting asgiref<4,>=3.8.1 (from django)\n",
            "  Downloading asgiref-3.8.1-py3-none-any.whl.metadata (9.3 kB)\n",
            "Requirement already satisfied: sqlparse>=0.3.1 in /usr/local/lib/python3.10/dist-packages (from django) (0.5.1)\n",
            "Requirement already satisfied: typing-extensions>=4 in /usr/local/lib/python3.10/dist-packages (from asgiref<4,>=3.8.1->django) (4.12.2)\n",
            "Downloading Django-5.1.2-py3-none-any.whl (8.3 MB)\n",
            "\u001b[2K   \u001b[90m━━━━━━━━━━━━━━━━━━━━━━━━━━━━━━━━━━━━━━━━\u001b[0m \u001b[32m8.3/8.3 MB\u001b[0m \u001b[31m26.1 MB/s\u001b[0m eta \u001b[36m0:00:00\u001b[0m\n",
            "\u001b[?25hDownloading asgiref-3.8.1-py3-none-any.whl (23 kB)\n",
            "Installing collected packages: asgiref, django\n",
            "Successfully installed asgiref-3.8.1 django-5.1.2\n"
          ]
        }
      ],
      "source": [
        "!pip install django"
      ]
    },
    {
      "cell_type": "code",
      "source": [
        "import os\n",
        "import django\n",
        "from django.db import transaction\n",
        "from django.dispatch import Signal, receiver\n",
        "from django.conf import settings"
      ],
      "metadata": {
        "id": "nn_ik8UI89CU"
      },
      "execution_count": null,
      "outputs": []
    },
    {
      "cell_type": "code",
      "source": [
        "# Set up Django settings module\n",
        "os.environ.setdefault('DJANGO_SETTINGS_MODULE', 'myproject.settings')\n",
        "django.setup()"
      ],
      "metadata": {
        "id": "bWRnkYPz9B5k"
      },
      "execution_count": null,
      "outputs": []
    },
    {
      "cell_type": "code",
      "source": [
        "# Define a signal\n",
        "my_signal = Signal()"
      ],
      "metadata": {
        "id": "GBY2OfWg9FF1"
      },
      "execution_count": null,
      "outputs": []
    },
    {
      "cell_type": "code",
      "source": [
        "# Receiver function\n",
        "@receiver(my_signal)\n",
        "def my_signal_receiver(sender, **kwargs):\n",
        "    print(\"Signal received!\")"
      ],
      "metadata": {
        "id": "y-Paxn309JYJ"
      },
      "execution_count": null,
      "outputs": []
    },
    {
      "cell_type": "code",
      "source": [
        "# Function to perform some actions\n",
        "def perform_transaction():\n",
        "    with transaction.atomic():\n",
        "        print(\"Performing transaction...\")\n",
        "\n",
        "        # Simulate some operation\n",
        "        # For example, incrementing a counter or processing data\n",
        "        counter = 10\n",
        "        counter += 5  # Some operation\n",
        "\n",
        "        print(\"Counter updated to:\", counter)\n",
        "        print(\"Before sending signal\")\n",
        "        my_signal.send(sender=None)\n",
        "        print(\"After sending signal\")"
      ],
      "metadata": {
        "id": "4ReF6nZ89Ogl"
      },
      "execution_count": null,
      "outputs": []
    },
    {
      "cell_type": "code",
      "source": [
        "import threading\n",
        "# Run the transaction in a separate thread\n",
        "thread = threading.Thread(target=perform_transaction)\n",
        "thread.start()\n",
        "thread.join()  # Wait for the thread to finish"
      ],
      "metadata": {
        "colab": {
          "base_uri": "https://localhost:8080/"
        },
        "id": "_qWAeWcT9SW5",
        "outputId": "b0bd43b3-fbba-4e9f-eaac-8d944fa95d88"
      },
      "execution_count": null,
      "outputs": [
        {
          "output_type": "stream",
          "name": "stdout",
          "text": [
            "Performing transaction...\n",
            "Counter updated to: 15\n",
            "Before sending signal\n",
            "Signal received!\n",
            "After sending signal\n"
          ]
        }
      ]
    }
  ]
}