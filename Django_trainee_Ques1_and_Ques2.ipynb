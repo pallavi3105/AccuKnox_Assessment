{
  "nbformat": 4,
  "nbformat_minor": 0,
  "metadata": {
    "colab": {
      "provenance": [],
      "authorship_tag": "ABX9TyM8fqFALbiBx4vwvgeL1r8T",
      "include_colab_link": true
    },
    "kernelspec": {
      "name": "python3",
      "display_name": "Python 3"
    },
    "language_info": {
      "name": "python"
    }
  },
  "cells": [
    {
      "cell_type": "markdown",
      "metadata": {
        "id": "view-in-github",
        "colab_type": "text"
      },
      "source": [
        "<a href=\"https://colab.research.google.com/github/pallavi3105/AccuKnox_Assessment/blob/main/Django_trainee_Ques1_and_Ques2.ipynb\" target=\"_parent\"><img src=\"https://colab.research.google.com/assets/colab-badge.svg\" alt=\"Open In Colab\"/></a>"
      ]
    },
    {
      "cell_type": "markdown",
      "source": [
        "\n",
        "**Question 1: Django Signals Execution**\n",
        "\n",
        "**Answer: By default, Django signals are executed synchronously.**"
      ],
      "metadata": {
        "id": "e1R6bVL6vZhT"
      }
    },
    {
      "cell_type": "code",
      "execution_count": null,
      "metadata": {
        "colab": {
          "base_uri": "https://localhost:8080/"
        },
        "id": "B4nRJ9ihs4Lb",
        "outputId": "5984abdd-6475-4ced-9031-84994cb3542e"
      },
      "outputs": [
        {
          "output_type": "stream",
          "name": "stdout",
          "text": [
            "Collecting django\n",
            "  Downloading Django-5.1.2-py3-none-any.whl.metadata (4.2 kB)\n",
            "Collecting asgiref<4,>=3.8.1 (from django)\n",
            "  Downloading asgiref-3.8.1-py3-none-any.whl.metadata (9.3 kB)\n",
            "Requirement already satisfied: sqlparse>=0.3.1 in /usr/local/lib/python3.10/dist-packages (from django) (0.5.1)\n",
            "Requirement already satisfied: typing-extensions>=4 in /usr/local/lib/python3.10/dist-packages (from asgiref<4,>=3.8.1->django) (4.12.2)\n",
            "Downloading Django-5.1.2-py3-none-any.whl (8.3 MB)\n",
            "\u001b[2K   \u001b[90m━━━━━━━━━━━━━━━━━━━━━━━━━━━━━━━━━━━━━━━━\u001b[0m \u001b[32m8.3/8.3 MB\u001b[0m \u001b[31m51.5 MB/s\u001b[0m eta \u001b[36m0:00:00\u001b[0m\n",
            "\u001b[?25hDownloading asgiref-3.8.1-py3-none-any.whl (23 kB)\n",
            "Installing collected packages: asgiref, django\n",
            "Successfully installed asgiref-3.8.1 django-5.1.2\n"
          ]
        }
      ],
      "source": [
        "!pip install django"
      ]
    },
    {
      "cell_type": "code",
      "source": [
        "import django\n",
        "from django.dispatch import Signal, receiver"
      ],
      "metadata": {
        "id": "HeZE7yYNuwpD"
      },
      "execution_count": null,
      "outputs": []
    },
    {
      "cell_type": "code",
      "source": [
        "# Define a signal\n",
        "my_signal = Signal()"
      ],
      "metadata": {
        "id": "mVfl67KcvB6-"
      },
      "execution_count": null,
      "outputs": []
    },
    {
      "cell_type": "code",
      "source": [
        "# Receiver function\n",
        "@receiver(my_signal)\n",
        "def my_signal_receiver(sender, **kwargs):\n",
        "    print(\"Signal received!\")\n"
      ],
      "metadata": {
        "id": "hRMJZi4rvG3s"
      },
      "execution_count": null,
      "outputs": []
    },
    {
      "cell_type": "code",
      "source": [
        "# Triggering the signal\n",
        "print(\"Before sending signal\")\n",
        "my_signal.send(sender=None)\n",
        "print(\"After sending signal\")"
      ],
      "metadata": {
        "colab": {
          "base_uri": "https://localhost:8080/"
        },
        "id": "hKv6PuczvMw7",
        "outputId": "4249b49e-1f30-4033-cede-e2456fdd6d24"
      },
      "execution_count": null,
      "outputs": [
        {
          "output_type": "stream",
          "name": "stdout",
          "text": [
            "Before sending signal\n",
            "Signal received!\n",
            "After sending signal\n"
          ]
        }
      ]
    },
    {
      "cell_type": "markdown",
      "source": [
        "**Explanation: In this example, when my_signal.send(sender=None) is called, the my_signal_receiver function is executed immediately in the same flow of the code, demonstrating synchronous execution. The output will show the order of prints, confirming that the signal is received before the final print statement.**"
      ],
      "metadata": {
        "id": "6NIN9CH0vhaR"
      }
    },
    {
      "cell_type": "markdown",
      "source": [
        "### **Question 2: Django Signals Thread Execution**\n",
        "## **Answer: Yes, Django signals run in the same thread as the caller.**"
      ],
      "metadata": {
        "id": "4FRV0zUEwK0x"
      }
    },
    {
      "cell_type": "code",
      "source": [
        "import threading\n",
        "from django.dispatch import Signal, receiver"
      ],
      "metadata": {
        "id": "1GMQm8K9wPxq"
      },
      "execution_count": null,
      "outputs": []
    },
    {
      "cell_type": "code",
      "source": [
        "# Define a signal\n",
        "my_signal = Signal()"
      ],
      "metadata": {
        "id": "GC560ZshwVB5"
      },
      "execution_count": null,
      "outputs": []
    },
    {
      "cell_type": "code",
      "source": [
        "# Receiver function\n",
        "@receiver(my_signal)\n",
        "def my_signal_receiver(sender, **kwargs):\n",
        "    print(f\"Signal received in thread: {threading.current_thread().name}\")"
      ],
      "metadata": {
        "id": "O22oaF8lwYk0"
      },
      "execution_count": null,
      "outputs": []
    },
    {
      "cell_type": "code",
      "source": [
        "# Triggering the signal in a different thread\n",
        "def trigger_signal():\n",
        "    print(f\"Triggering signal in thread: {threading.current_thread().name}\")\n",
        "    my_signal.send(sender=None)"
      ],
      "metadata": {
        "id": "CY6E1B3WwhYu"
      },
      "execution_count": null,
      "outputs": []
    },
    {
      "cell_type": "code",
      "source": [
        "print(f\"Main thread: {threading.current_thread().name}\")\n",
        "trigger_signal()"
      ],
      "metadata": {
        "colab": {
          "base_uri": "https://localhost:8080/"
        },
        "id": "Gc056pn6wyUm",
        "outputId": "9414e84a-0a2b-40f8-a8a3-6f47841de949"
      },
      "execution_count": null,
      "outputs": [
        {
          "output_type": "stream",
          "name": "stdout",
          "text": [
            "Main thread: MainThread\n",
            "Triggering signal in thread: MainThread\n",
            "Signal received in thread: MainThread\n"
          ]
        }
      ]
    },
    {
      "cell_type": "markdown",
      "source": [
        "**Explanation: In this example, we trigger the signal in a different thread. The print statements show which thread is executing the signal receiver. The output will show the thread names, confirming that the signal is executed in the same thread that triggers it, demonstrating that it does not switch threads.**"
      ],
      "metadata": {
        "id": "7XODVarsw0pE"
      }
    }
  ]
}